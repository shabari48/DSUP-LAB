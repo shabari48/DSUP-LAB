{
 "cells": [
  {
   "cell_type": "markdown",
   "id": "6d2cdee8",
   "metadata": {},
   "source": [
    "CODE:"
   ]
  },
  {
   "cell_type": "code",
   "execution_count": 1,
   "id": "446a1e2c-27e8-4e21-8b27-ab222019e713",
   "metadata": {},
   "outputs": [],
   "source": [
    "import pandas as pd"
   ]
  },
  {
   "cell_type": "markdown",
   "id": "bbb67485",
   "metadata": {},
   "source": [
    "READ CSV FILE using pandas"
   ]
  },
  {
   "cell_type": "code",
   "execution_count": 2,
   "id": "5204c610-d897-4b48-a6be-528e6be5f0b8",
   "metadata": {},
   "outputs": [
    {
     "data": {
      "text/plain": [
       "<bound method NDFrame.head of                     SUBDIVISION  YEAR   JAN    FEB   MAR    APR    MAY    JUN  \\\n",
       "0     ANDAMAN & NICOBAR ISLANDS  1901  49.2   87.1  29.2    2.3  528.8  517.5   \n",
       "1     ANDAMAN & NICOBAR ISLANDS  1902   0.0  159.8  12.2    0.0  446.1  537.1   \n",
       "2     ANDAMAN & NICOBAR ISLANDS  1903  12.7  144.0   0.0    1.0  235.1  479.9   \n",
       "3     ANDAMAN & NICOBAR ISLANDS  1904   9.4   14.7   0.0  202.4  304.5  495.1   \n",
       "4     ANDAMAN & NICOBAR ISLANDS  1905   1.3    0.0   3.3   26.9  279.5  628.7   \n",
       "...                         ...   ...   ...    ...   ...    ...    ...    ...   \n",
       "4111                LAKSHADWEEP  2011   5.1    2.8   3.1   85.9  107.2  153.6   \n",
       "4112                LAKSHADWEEP  2012  19.2    0.1   1.6   76.8   21.2  327.0   \n",
       "4113                LAKSHADWEEP  2013  26.2   34.4  37.5    5.3   88.3  426.2   \n",
       "4114                LAKSHADWEEP  2014  53.2   16.1   4.4   14.9   57.4  244.1   \n",
       "4115                LAKSHADWEEP  2015   2.2    0.5   3.7   87.1  133.1  296.6   \n",
       "\n",
       "        JUL    AUG    SEP    OCT    NOV    DEC  ANNUAL  Jan-Feb  Mar-May  \\\n",
       "0     365.1  481.1  332.6  388.5  558.2   33.6  3373.2    136.3    560.3   \n",
       "1     228.9  753.7  666.2  197.2  359.0  160.5  3520.7    159.8    458.3   \n",
       "2     728.4  326.7  339.0  181.2  284.4  225.0  2957.4    156.7    236.1   \n",
       "3     502.0  160.1  820.4  222.2  308.7   40.1  3079.6     24.1    506.9   \n",
       "4     368.7  330.5  297.0  260.7   25.4  344.7  2566.7      1.3    309.7   \n",
       "...     ...    ...    ...    ...    ...    ...     ...      ...      ...   \n",
       "4111  350.2  254.0  255.2  117.4  184.3   14.9  1533.7      7.9    196.2   \n",
       "4112  231.5  381.2  179.8  145.9   12.4    8.8  1405.5     19.3     99.6   \n",
       "4113  296.4  154.4  180.0   72.8   78.1   26.7  1426.3     60.6    131.1   \n",
       "4114  116.1  466.1  132.2  169.2   59.0   62.3  1395.0     69.3     76.7   \n",
       "4115  257.5  146.4  160.4  165.4  231.0  159.0  1642.9      2.7    223.9   \n",
       "\n",
       "      Jun-Sep  Oct-Dec  \n",
       "0      1696.3    980.3  \n",
       "1      2185.9    716.7  \n",
       "2      1874.0    690.6  \n",
       "3      1977.6    571.0  \n",
       "4      1624.9    630.8  \n",
       "...       ...      ...  \n",
       "4111   1013.0    316.6  \n",
       "4112   1119.5    167.1  \n",
       "4113   1057.0    177.6  \n",
       "4114    958.5    290.5  \n",
       "4115    860.9    555.4  \n",
       "\n",
       "[4116 rows x 19 columns]>"
      ]
     },
     "execution_count": 2,
     "metadata": {},
     "output_type": "execute_result"
    }
   ],
   "source": [
    "df=pd.read_csv('rainfall in india 1901-2015.csv',index_col=False)\n",
    "df.head\n",
    "#read file using pandas read_csv method"
   ]
  },
  {
   "cell_type": "markdown",
   "id": "b14cfae9",
   "metadata": {},
   "source": [
    "CHECK FOR NULL VALUES"
   ]
  },
  {
   "cell_type": "code",
   "execution_count": 3,
   "id": "1af38a34",
   "metadata": {},
   "outputs": [
    {
     "name": "stdout",
     "output_type": "stream",
     "text": [
      "<class 'pandas.core.frame.DataFrame'>\n",
      "RangeIndex: 4116 entries, 0 to 4115\n",
      "Data columns (total 19 columns):\n",
      " #   Column       Non-Null Count  Dtype  \n",
      "---  ------       --------------  -----  \n",
      " 0   SUBDIVISION  4116 non-null   object \n",
      " 1   YEAR         4116 non-null   int64  \n",
      " 2   JAN          4112 non-null   float64\n",
      " 3   FEB          4113 non-null   float64\n",
      " 4   MAR          4110 non-null   float64\n",
      " 5   APR          4112 non-null   float64\n",
      " 6   MAY          4113 non-null   float64\n",
      " 7   JUN          4111 non-null   float64\n",
      " 8   JUL          4109 non-null   float64\n",
      " 9   AUG          4112 non-null   float64\n",
      " 10  SEP          4110 non-null   float64\n",
      " 11  OCT          4109 non-null   float64\n",
      " 12  NOV          4105 non-null   float64\n",
      " 13  DEC          4106 non-null   float64\n",
      " 14  ANNUAL       4090 non-null   float64\n",
      " 15  Jan-Feb      4110 non-null   float64\n",
      " 16  Mar-May      4107 non-null   float64\n",
      " 17  Jun-Sep      4106 non-null   float64\n",
      " 18  Oct-Dec      4103 non-null   float64\n",
      "dtypes: float64(17), int64(1), object(1)\n",
      "memory usage: 611.1+ KB\n"
     ]
    },
    {
     "data": {
      "text/plain": [
       "'\\nThe info() method prints information about the DataFrame. \\nThe information contains the number of columns, column labels, column data types, memory usage, \\nrange index, and the number of cells in each column (non-null values\\n\\n'"
      ]
     },
     "execution_count": 3,
     "metadata": {},
     "output_type": "execute_result"
    }
   ],
   "source": [
    "df.info() \n",
    "\n",
    "\"\"\"\n",
    "The info() method prints information about the DataFrame. \n",
    "The information contains the number of columns, column labels, column data types, memory usage, \n",
    "range index, and the number of cells in each column (non-null values\n",
    "\n",
    "\"\"\"\n"
   ]
  },
  {
   "cell_type": "code",
   "execution_count": 4,
   "id": "fd2465a2",
   "metadata": {},
   "outputs": [
    {
     "data": {
      "text/plain": [
       "SUBDIVISION     0\n",
       "YEAR            0\n",
       "JAN             4\n",
       "FEB             3\n",
       "MAR             6\n",
       "APR             4\n",
       "MAY             3\n",
       "JUN             5\n",
       "JUL             7\n",
       "AUG             4\n",
       "SEP             6\n",
       "OCT             7\n",
       "NOV            11\n",
       "DEC            10\n",
       "ANNUAL         26\n",
       "Jan-Feb         6\n",
       "Mar-May         9\n",
       "Jun-Sep        10\n",
       "Oct-Dec        13\n",
       "dtype: int64"
      ]
     },
     "execution_count": 4,
     "metadata": {},
     "output_type": "execute_result"
    }
   ],
   "source": [
    "df.isnull().sum()  #find the null values in each column"
   ]
  },
  {
   "cell_type": "code",
   "execution_count": 6,
   "id": "b31d968a",
   "metadata": {},
   "outputs": [
    {
     "name": "stdout",
     "output_type": "stream",
     "text": [
      "                    SUBDIVISION    YEAR   JAN    FEB   MAR    APR    MAY  \\\n",
      "0     ANDAMAN & NICOBAR ISLANDS  1901.0  49.2   87.1  29.2    2.3  528.8   \n",
      "1     ANDAMAN & NICOBAR ISLANDS  1902.0   0.0  159.8  12.2    0.0  446.1   \n",
      "2     ANDAMAN & NICOBAR ISLANDS  1903.0  12.7  144.0   0.0    1.0  235.1   \n",
      "3     ANDAMAN & NICOBAR ISLANDS  1904.0   9.4   14.7   0.0  202.4  304.5   \n",
      "4     ANDAMAN & NICOBAR ISLANDS  1905.0   1.3    0.0   3.3   26.9  279.5   \n",
      "...                         ...     ...   ...    ...   ...    ...    ...   \n",
      "4111                LAKSHADWEEP  2011.0   5.1    2.8   3.1   85.9  107.2   \n",
      "4112                LAKSHADWEEP  2012.0  19.2    0.1   1.6   76.8   21.2   \n",
      "4113                LAKSHADWEEP  2013.0  26.2   34.4  37.5    5.3   88.3   \n",
      "4114                LAKSHADWEEP  2014.0  53.2   16.1   4.4   14.9   57.4   \n",
      "4115                LAKSHADWEEP  2015.0   2.2    0.5   3.7   87.1  133.1   \n",
      "\n",
      "        JUN    JUL    AUG    SEP    OCT    NOV    DEC  ANNUAL  Jan-Feb  \\\n",
      "0     517.5  365.1  481.1  332.6  388.5  558.2   33.6  3373.2    136.3   \n",
      "1     537.1  228.9  753.7  666.2  197.2  359.0  160.5  3520.7    159.8   \n",
      "2     479.9  728.4  326.7  339.0  181.2  284.4  225.0  2957.4    156.7   \n",
      "3     495.1  502.0  160.1  820.4  222.2  308.7   40.1  3079.6     24.1   \n",
      "4     628.7  368.7  330.5  297.0  260.7   25.4  344.7  2566.7      1.3   \n",
      "...     ...    ...    ...    ...    ...    ...    ...     ...      ...   \n",
      "4111  153.6  350.2  254.0  255.2  117.4  184.3   14.9  1533.7      7.9   \n",
      "4112  327.0  231.5  381.2  179.8  145.9   12.4    8.8  1405.5     19.3   \n",
      "4113  426.2  296.4  154.4  180.0   72.8   78.1   26.7  1426.3     60.6   \n",
      "4114  244.1  116.1  466.1  132.2  169.2   59.0   62.3  1395.0     69.3   \n",
      "4115  296.6  257.5  146.4  160.4  165.4  231.0  159.0  1642.9      2.7   \n",
      "\n",
      "      Mar-May  Jun-Sep  Oct-Dec  \n",
      "0       560.3   1696.3    980.3  \n",
      "1       458.3   2185.9    716.7  \n",
      "2       236.1   1874.0    690.6  \n",
      "3       506.9   1977.6    571.0  \n",
      "4       309.7   1624.9    630.8  \n",
      "...       ...      ...      ...  \n",
      "4111    196.2   1013.0    316.6  \n",
      "4112     99.6   1119.5    167.1  \n",
      "4113    131.1   1057.0    177.6  \n",
      "4114     76.7    958.5    290.5  \n",
      "4115    223.9    860.9    555.4  \n",
      "\n",
      "[4116 rows x 19 columns]\n"
     ]
    }
   ],
   "source": [
    " from sklearn.impute import SimpleImputer\n",
    "# Specify the column to exclude (string type)\n",
    "\n",
    "column_to_exclude = 'SUBDIVISION'\n",
    "\n",
    "# Create a list of numerical columns\n",
    "numerical_columns = [col for col in df.columns if col != column_to_exclude and df[col].dtype != object]\n",
    "\n",
    "# Create the imputer, excluding the string column\n",
    "imputer = SimpleImputer(strategy='mean', copy=False)  # avoid unnecessary data copy\n",
    "imputer.fit(df[numerical_columns])\n",
    "\n",
    "# Transform the data, excluding the string column\n",
    "df[numerical_columns] = imputer.transform(df[numerical_columns])\n",
    "\n",
    "print(df)"
   ]
  },
  {
   "cell_type": "code",
   "execution_count": null,
   "id": "086a6ea9",
   "metadata": {},
   "outputs": [],
   "source": [
    "df.isnull().sum()"
   ]
  },
  {
   "cell_type": "markdown",
   "id": "781684a3",
   "metadata": {},
   "source": [
    "EXPORT THE PROCESSED DATAFRAME TO OTHER FORMATS - CSV,JSON,EXCEL,HDF"
   ]
  },
  {
   "cell_type": "code",
   "execution_count": null,
   "id": "12f363a8",
   "metadata": {},
   "outputs": [],
   "source": [
    "df.to_excel('./ProcessedDataset/ExportEXCEL.xlsx',index=False)\n",
    "df.head\n",
    "\n",
    "#dataframe to excel format"
   ]
  },
  {
   "cell_type": "code",
   "execution_count": null,
   "id": "d208ec62",
   "metadata": {},
   "outputs": [],
   "source": [
    "df.to_json('./ProcessedDataset/ExportJSON.json')\n",
    "#dataframe to json format"
   ]
  },
  {
   "cell_type": "code",
   "execution_count": null,
   "id": "9e52d398",
   "metadata": {},
   "outputs": [],
   "source": [
    "df.to_csv('./ProcessedDataset/ExportCSV.csv',index=False)\n",
    "\n",
    "#dataframe to csv format"
   ]
  },
  {
   "cell_type": "code",
   "execution_count": null,
   "id": "503d2197",
   "metadata": {},
   "outputs": [],
   "source": [
    "df.to_hdf('./ProcessedDataset/ExportHDF.h5',key='df',mode='a')\n",
    "\n",
    "#dataframe to hdf format"
   ]
  },
  {
   "cell_type": "code",
   "execution_count": null,
   "id": "8f839f62",
   "metadata": {},
   "outputs": [],
   "source": [
    "df=pd.read_csv('./ProcessedDataset/ExportCSV.csv')\n",
    "df.head(5)\n",
    "\n",
    "#reading processed csv"
   ]
  },
  {
   "cell_type": "code",
   "execution_count": null,
   "id": "2cca79b7",
   "metadata": {},
   "outputs": [],
   "source": [
    "df=pd.read_excel('./ProcessedDataset/ExportEXCEL.xlsx')\n",
    "df.head(5)"
   ]
  },
  {
   "cell_type": "code",
   "execution_count": null,
   "id": "a9c39133",
   "metadata": {},
   "outputs": [],
   "source": [
    "df=pd.read_hdf('./ProcessedDataset/ExportHDF.h5')\n",
    "df.head(5)"
   ]
  },
  {
   "cell_type": "code",
   "execution_count": null,
   "id": "f1cfe75d",
   "metadata": {},
   "outputs": [],
   "source": [
    "df=pd.read_json('./ProcessedDataset/ExportJSON.json')\n",
    "df.head(5)"
   ]
  }
 ],
 "metadata": {
  "kernelspec": {
   "display_name": "Python 3 (ipykernel)",
   "language": "python",
   "name": "python3"
  },
  "language_info": {
   "codemirror_mode": {
    "name": "ipython",
    "version": 3
   },
   "file_extension": ".py",
   "mimetype": "text/x-python",
   "name": "python",
   "nbconvert_exporter": "python",
   "pygments_lexer": "ipython3",
   "version": "3.11.5"
  }
 },
 "nbformat": 4,
 "nbformat_minor": 5
}
