{
 "cells": [
  {
   "cell_type": "code",
   "execution_count": 2,
   "metadata": {},
   "outputs": [],
   "source": [
    "import numpy as np"
   ]
  },
  {
   "cell_type": "code",
   "execution_count": 4,
   "metadata": {},
   "outputs": [
    {
     "name": "stdout",
     "output_type": "stream",
     "text": [
      "Row [33 44 55]\n",
      "Column [[33]\n",
      " [44]\n",
      " [55]]\n"
     ]
    }
   ],
   "source": [
    "rowvector=np.array([33,44,55])\n",
    "print(\"Row\",rowvector)\n",
    "columnvector=np.array([[33],[44],[55]])\n",
    "print(\"Column\",columnvector)"
   ]
  },
  {
   "cell_type": "code",
   "execution_count": 10,
   "metadata": {},
   "outputs": [
    {
     "name": "stdout",
     "output_type": "stream",
     "text": [
      "[23 34 45]\n",
      "[2 4 8]\n",
      "SUM\n",
      "[25 38 53]\n",
      "SUB\n",
      "[21 30 37]\n",
      "MUL\n",
      "[ 46 136 360]\n",
      "DIV\n",
      "[11.5    8.5    5.625]\n"
     ]
    }
   ],
   "source": [
    "v1=np.array([23,34,45])\n",
    "print(v1)\n",
    "v2=np.array([2,4,8])\n",
    "print(v2)\n",
    "sum,sub,mul,div=v1+v2,v1-v2,v1*v2,v1/v2\n",
    "print(\"SUM\",sum,\"SUB\",sub,\"MUL\",mul,\"DIV\",div,sep=\"\\n\")"
   ]
  },
  {
   "cell_type": "code",
   "execution_count": 12,
   "metadata": {},
   "outputs": [
    {
     "data": {
      "text/plain": [
       "542"
      ]
     },
     "execution_count": 12,
     "metadata": {},
     "output_type": "execute_result"
    }
   ],
   "source": [
    "dotproduct=v1.dot(v2)\n",
    "dotproduct"
   ]
  },
  {
   "cell_type": "code",
   "execution_count": null,
   "metadata": {},
   "outputs": [],
   "source": []
  }
 ],
 "metadata": {
  "kernelspec": {
   "display_name": "Python 3",
   "language": "python",
   "name": "python3"
  },
  "language_info": {
   "codemirror_mode": {
    "name": "ipython",
    "version": 3
   },
   "file_extension": ".py",
   "mimetype": "text/x-python",
   "name": "python",
   "nbconvert_exporter": "python",
   "pygments_lexer": "ipython3",
   "version": "3.12.1"
  }
 },
 "nbformat": 4,
 "nbformat_minor": 2
}
