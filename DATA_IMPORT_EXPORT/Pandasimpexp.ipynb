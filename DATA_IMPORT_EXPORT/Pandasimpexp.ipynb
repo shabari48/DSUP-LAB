{
 "cells": [
  {
   "cell_type": "markdown",
   "id": "ac0e2d86",
   "metadata": {},
   "source": [
    "SHABARI PRAKASH SV 21C085 "
   ]
  },
  {
   "cell_type": "markdown",
   "id": "b6624ec6",
   "metadata": {},
   "source": [
    "Import Pandas and Read/Import Multiple FIle Format"
   ]
  },
  {
   "cell_type": "code",
   "execution_count": 35,
   "id": "446a1e2c-27e8-4e21-8b27-ab222019e713",
   "metadata": {},
   "outputs": [],
   "source": [
    "import pandas as pd"
   ]
  },
  {
   "cell_type": "markdown",
   "id": "bbb67485",
   "metadata": {},
   "source": [
    "READ CSV FILE"
   ]
  },
  {
   "cell_type": "code",
   "execution_count": 36,
   "id": "5204c610-d897-4b48-a6be-528e6be5f0b8",
   "metadata": {},
   "outputs": [],
   "source": [
    "df=pd.read_csv('samplecsv.csv')"
   ]
  },
  {
   "cell_type": "code",
   "execution_count": 37,
   "id": "38b7d664",
   "metadata": {},
   "outputs": [
    {
     "name": "stdout",
     "output_type": "stream",
     "text": [
      "<bound method NDFrame.head of     Age   Gender AcademicPerformance TakingNoteInClass DepressionStatus  \\\n",
      "0     23    Male             Average                No        Sometimes   \n",
      "1     23    Male           Excellent         Sometimes              Yes   \n",
      "2     24    Male             Average                No        Sometimes   \n",
      "3     20  Female                Good               Yes        Sometimes   \n",
      "4     24  Female             Average               Yes              Yes   \n",
      "..   ...     ...                 ...               ...              ...   \n",
      "94    21    Male                Good               Yes        Sometimes   \n",
      "95    21  Female                Good               Yes              Yes   \n",
      "96    25    Male                Good               Yes        Sometimes   \n",
      "97    21    Male                Good               Yes               No   \n",
      "98    22  Female             Average               Yes               No   \n",
      "\n",
      "   FaceChallangesToCompleteAcademicTask LikePresentation  SleepPerDayHours  \\\n",
      "0                                   Yes              Yes                12   \n",
      "1                                    No              Yes                 8   \n",
      "2                             Sometimes               No                 8   \n",
      "3                                   Yes               No                 5   \n",
      "4                                   Yes              Yes                 5   \n",
      "..                                  ...              ...               ...   \n",
      "94                                  Yes              Yes                 6   \n",
      "95                                   No              Yes                 6   \n",
      "96                                   No              Yes                 4   \n",
      "97                            Sometimes               No                10   \n",
      "98                                   No              Yes                 7   \n",
      "\n",
      "    NumberOfFriend LikeNewThings  \n",
      "0              NaN           Yes  \n",
      "1             80.0           Yes  \n",
      "2             10.0           Yes  \n",
      "3             15.0           Yes  \n",
      "4              2.0           Yes  \n",
      "..             ...           ...  \n",
      "94             4.0           Yes  \n",
      "95             6.0           Yes  \n",
      "96             9.0            No  \n",
      "97            23.0           Yes  \n",
      "98             3.0           Yes  \n",
      "\n",
      "[99 rows x 10 columns]>\n"
     ]
    }
   ],
   "source": [
    "print(df.head)"
   ]
  },
  {
   "cell_type": "markdown",
   "id": "efe7df58",
   "metadata": {},
   "source": [
    "READ JSON FILE"
   ]
  },
  {
   "cell_type": "code",
   "execution_count": 38,
   "id": "fb75a39e",
   "metadata": {},
   "outputs": [],
   "source": [
    "jsondataset=pd.read_json('./samplejson.json')"
   ]
  },
  {
   "cell_type": "code",
   "execution_count": 39,
   "id": "53b9089c",
   "metadata": {},
   "outputs": [
    {
     "name": "stdout",
     "output_type": "stream",
     "text": [
      "<bound method NDFrame.head of     Age  Gender AcademicPerformance TakingNoteInClass DepressionStatus  \\\n",
      "0    23    Male             Average                No        Sometimes   \n",
      "1    23    Male           Excellent         Sometimes              Yes   \n",
      "2    24    Male             Average                No        Sometimes   \n",
      "3    20  Female                Good               Yes        Sometimes   \n",
      "4    24  Female             Average               Yes              Yes   \n",
      "..  ...     ...                 ...               ...              ...   \n",
      "94   21    Male                Good               Yes        Sometimes   \n",
      "95   21  Female                Good               Yes              Yes   \n",
      "96   25    Male                Good               Yes        Sometimes   \n",
      "97   21    Male                Good               Yes               No   \n",
      "98   22  Female             Average               Yes               No   \n",
      "\n",
      "   FaceChallangesToCompleteAcademicTask LikePresentation  SleepPerDayHours  \\\n",
      "0                                   Yes              Yes                12   \n",
      "1                                    No              Yes                 8   \n",
      "2                             Sometimes               No                 8   \n",
      "3                                   Yes               No                 5   \n",
      "4                                   Yes              Yes                 5   \n",
      "..                                  ...              ...               ...   \n",
      "94                                  Yes              Yes                 6   \n",
      "95                                   No              Yes                 6   \n",
      "96                                   No              Yes                 4   \n",
      "97                            Sometimes               No                10   \n",
      "98                                   No              Yes                 7   \n",
      "\n",
      "   NumberOfFriend LikeNewThings  \n",
      "0                           Yes  \n",
      "1              80           Yes  \n",
      "2              10           Yes  \n",
      "3              15           Yes  \n",
      "4               2           Yes  \n",
      "..            ...           ...  \n",
      "94              4           Yes  \n",
      "95              6           Yes  \n",
      "96              9            No  \n",
      "97             23           Yes  \n",
      "98              3           Yes  \n",
      "\n",
      "[99 rows x 10 columns]>\n"
     ]
    }
   ],
   "source": [
    "print(jsondataset.head)"
   ]
  },
  {
   "cell_type": "markdown",
   "id": "8d6bcc26",
   "metadata": {},
   "source": [
    "READ EXCEL FILE"
   ]
  },
  {
   "cell_type": "code",
   "execution_count": 40,
   "id": "c5fec09a",
   "metadata": {},
   "outputs": [],
   "source": [
    "xsldata=pd.read_excel('./sampleexcel.xlsx')"
   ]
  },
  {
   "cell_type": "code",
   "execution_count": 41,
   "id": "614a89d8",
   "metadata": {},
   "outputs": [
    {
     "name": "stdout",
     "output_type": "stream",
     "text": [
      "<bound method NDFrame.head of     Age   Gender AcademicPerformance TakingNoteInClass DepressionStatus  \\\n",
      "0     23    Male             Average                No        Sometimes   \n",
      "1     23    Male           Excellent         Sometimes              Yes   \n",
      "2     24    Male             Average                No        Sometimes   \n",
      "3     20  Female                Good               Yes        Sometimes   \n",
      "4     24  Female             Average               Yes              Yes   \n",
      "..   ...     ...                 ...               ...              ...   \n",
      "94    21    Male                Good               Yes        Sometimes   \n",
      "95    21  Female                Good               Yes              Yes   \n",
      "96    25    Male                Good               Yes        Sometimes   \n",
      "97    21    Male                Good               Yes               No   \n",
      "98    22  Female             Average               Yes               No   \n",
      "\n",
      "   FaceChallangesToCompleteAcademicTask LikePresentation  SleepPerDayHours  \\\n",
      "0                                   Yes              Yes                12   \n",
      "1                                    No              Yes                 8   \n",
      "2                             Sometimes               No                 8   \n",
      "3                                   Yes               No                 5   \n",
      "4                                   Yes              Yes                 5   \n",
      "..                                  ...              ...               ...   \n",
      "94                                  Yes              Yes                 6   \n",
      "95                                   No              Yes                 6   \n",
      "96                                   No              Yes                 4   \n",
      "97                            Sometimes               No                10   \n",
      "98                                   No              Yes                 7   \n",
      "\n",
      "    NumberOfFriend LikeNewThings  \n",
      "0              NaN           Yes  \n",
      "1             80.0           Yes  \n",
      "2             10.0           Yes  \n",
      "3             15.0           Yes  \n",
      "4              2.0           Yes  \n",
      "..             ...           ...  \n",
      "94             4.0           Yes  \n",
      "95             6.0           Yes  \n",
      "96             9.0            No  \n",
      "97            23.0           Yes  \n",
      "98             3.0           Yes  \n",
      "\n",
      "[99 rows x 10 columns]>\n"
     ]
    }
   ],
   "source": [
    "print(xsldata.head)"
   ]
  },
  {
   "cell_type": "markdown",
   "id": "7aa79ab0",
   "metadata": {},
   "source": [
    "CONVERT TO PANDAS DATAFRAME"
   ]
  },
  {
   "cell_type": "code",
   "execution_count": 42,
   "id": "591b7e29",
   "metadata": {},
   "outputs": [
    {
     "data": {
      "text/html": [
       "<div>\n",
       "<style scoped>\n",
       "    .dataframe tbody tr th:only-of-type {\n",
       "        vertical-align: middle;\n",
       "    }\n",
       "\n",
       "    .dataframe tbody tr th {\n",
       "        vertical-align: top;\n",
       "    }\n",
       "\n",
       "    .dataframe thead th {\n",
       "        text-align: right;\n",
       "    }\n",
       "</style>\n",
       "<table border=\"1\" class=\"dataframe\">\n",
       "  <thead>\n",
       "    <tr style=\"text-align: right;\">\n",
       "      <th></th>\n",
       "      <th>Age</th>\n",
       "      <th>Gender</th>\n",
       "      <th>AcademicPerformance</th>\n",
       "      <th>TakingNoteInClass</th>\n",
       "      <th>DepressionStatus</th>\n",
       "      <th>FaceChallangesToCompleteAcademicTask</th>\n",
       "      <th>LikePresentation</th>\n",
       "      <th>SleepPerDayHours</th>\n",
       "      <th>NumberOfFriend</th>\n",
       "      <th>LikeNewThings</th>\n",
       "    </tr>\n",
       "  </thead>\n",
       "  <tbody>\n",
       "    <tr>\n",
       "      <th>0</th>\n",
       "      <td>23</td>\n",
       "      <td>Male</td>\n",
       "      <td>Average</td>\n",
       "      <td>No</td>\n",
       "      <td>Sometimes</td>\n",
       "      <td>Yes</td>\n",
       "      <td>Yes</td>\n",
       "      <td>12</td>\n",
       "      <td>NaN</td>\n",
       "      <td>Yes</td>\n",
       "    </tr>\n",
       "    <tr>\n",
       "      <th>1</th>\n",
       "      <td>23</td>\n",
       "      <td>Male</td>\n",
       "      <td>Excellent</td>\n",
       "      <td>Sometimes</td>\n",
       "      <td>Yes</td>\n",
       "      <td>No</td>\n",
       "      <td>Yes</td>\n",
       "      <td>8</td>\n",
       "      <td>80.0</td>\n",
       "      <td>Yes</td>\n",
       "    </tr>\n",
       "    <tr>\n",
       "      <th>2</th>\n",
       "      <td>24</td>\n",
       "      <td>Male</td>\n",
       "      <td>Average</td>\n",
       "      <td>No</td>\n",
       "      <td>Sometimes</td>\n",
       "      <td>Sometimes</td>\n",
       "      <td>No</td>\n",
       "      <td>8</td>\n",
       "      <td>10.0</td>\n",
       "      <td>Yes</td>\n",
       "    </tr>\n",
       "    <tr>\n",
       "      <th>3</th>\n",
       "      <td>20</td>\n",
       "      <td>Female</td>\n",
       "      <td>Good</td>\n",
       "      <td>Yes</td>\n",
       "      <td>Sometimes</td>\n",
       "      <td>Yes</td>\n",
       "      <td>No</td>\n",
       "      <td>5</td>\n",
       "      <td>15.0</td>\n",
       "      <td>Yes</td>\n",
       "    </tr>\n",
       "    <tr>\n",
       "      <th>4</th>\n",
       "      <td>24</td>\n",
       "      <td>Female</td>\n",
       "      <td>Average</td>\n",
       "      <td>Yes</td>\n",
       "      <td>Yes</td>\n",
       "      <td>Yes</td>\n",
       "      <td>Yes</td>\n",
       "      <td>5</td>\n",
       "      <td>2.0</td>\n",
       "      <td>Yes</td>\n",
       "    </tr>\n",
       "    <tr>\n",
       "      <th>...</th>\n",
       "      <td>...</td>\n",
       "      <td>...</td>\n",
       "      <td>...</td>\n",
       "      <td>...</td>\n",
       "      <td>...</td>\n",
       "      <td>...</td>\n",
       "      <td>...</td>\n",
       "      <td>...</td>\n",
       "      <td>...</td>\n",
       "      <td>...</td>\n",
       "    </tr>\n",
       "    <tr>\n",
       "      <th>94</th>\n",
       "      <td>21</td>\n",
       "      <td>Male</td>\n",
       "      <td>Good</td>\n",
       "      <td>Yes</td>\n",
       "      <td>Sometimes</td>\n",
       "      <td>Yes</td>\n",
       "      <td>Yes</td>\n",
       "      <td>6</td>\n",
       "      <td>4.0</td>\n",
       "      <td>Yes</td>\n",
       "    </tr>\n",
       "    <tr>\n",
       "      <th>95</th>\n",
       "      <td>21</td>\n",
       "      <td>Female</td>\n",
       "      <td>Good</td>\n",
       "      <td>Yes</td>\n",
       "      <td>Yes</td>\n",
       "      <td>No</td>\n",
       "      <td>Yes</td>\n",
       "      <td>6</td>\n",
       "      <td>6.0</td>\n",
       "      <td>Yes</td>\n",
       "    </tr>\n",
       "    <tr>\n",
       "      <th>96</th>\n",
       "      <td>25</td>\n",
       "      <td>Male</td>\n",
       "      <td>Good</td>\n",
       "      <td>Yes</td>\n",
       "      <td>Sometimes</td>\n",
       "      <td>No</td>\n",
       "      <td>Yes</td>\n",
       "      <td>4</td>\n",
       "      <td>9.0</td>\n",
       "      <td>No</td>\n",
       "    </tr>\n",
       "    <tr>\n",
       "      <th>97</th>\n",
       "      <td>21</td>\n",
       "      <td>Male</td>\n",
       "      <td>Good</td>\n",
       "      <td>Yes</td>\n",
       "      <td>No</td>\n",
       "      <td>Sometimes</td>\n",
       "      <td>No</td>\n",
       "      <td>10</td>\n",
       "      <td>23.0</td>\n",
       "      <td>Yes</td>\n",
       "    </tr>\n",
       "    <tr>\n",
       "      <th>98</th>\n",
       "      <td>22</td>\n",
       "      <td>Female</td>\n",
       "      <td>Average</td>\n",
       "      <td>Yes</td>\n",
       "      <td>No</td>\n",
       "      <td>No</td>\n",
       "      <td>Yes</td>\n",
       "      <td>7</td>\n",
       "      <td>3.0</td>\n",
       "      <td>Yes</td>\n",
       "    </tr>\n",
       "  </tbody>\n",
       "</table>\n",
       "<p>99 rows × 10 columns</p>\n",
       "</div>"
      ],
      "text/plain": [
       "    Age   Gender AcademicPerformance TakingNoteInClass DepressionStatus  \\\n",
       "0     23    Male             Average                No        Sometimes   \n",
       "1     23    Male           Excellent         Sometimes              Yes   \n",
       "2     24    Male             Average                No        Sometimes   \n",
       "3     20  Female                Good               Yes        Sometimes   \n",
       "4     24  Female             Average               Yes              Yes   \n",
       "..   ...     ...                 ...               ...              ...   \n",
       "94    21    Male                Good               Yes        Sometimes   \n",
       "95    21  Female                Good               Yes              Yes   \n",
       "96    25    Male                Good               Yes        Sometimes   \n",
       "97    21    Male                Good               Yes               No   \n",
       "98    22  Female             Average               Yes               No   \n",
       "\n",
       "   FaceChallangesToCompleteAcademicTask LikePresentation  SleepPerDayHours  \\\n",
       "0                                   Yes              Yes                12   \n",
       "1                                    No              Yes                 8   \n",
       "2                             Sometimes               No                 8   \n",
       "3                                   Yes               No                 5   \n",
       "4                                   Yes              Yes                 5   \n",
       "..                                  ...              ...               ...   \n",
       "94                                  Yes              Yes                 6   \n",
       "95                                   No              Yes                 6   \n",
       "96                                   No              Yes                 4   \n",
       "97                            Sometimes               No                10   \n",
       "98                                   No              Yes                 7   \n",
       "\n",
       "    NumberOfFriend LikeNewThings  \n",
       "0              NaN           Yes  \n",
       "1             80.0           Yes  \n",
       "2             10.0           Yes  \n",
       "3             15.0           Yes  \n",
       "4              2.0           Yes  \n",
       "..             ...           ...  \n",
       "94             4.0           Yes  \n",
       "95             6.0           Yes  \n",
       "96             9.0            No  \n",
       "97            23.0           Yes  \n",
       "98             3.0           Yes  \n",
       "\n",
       "[99 rows x 10 columns]"
      ]
     },
     "execution_count": 42,
     "metadata": {},
     "output_type": "execute_result"
    }
   ],
   "source": [
    "df=pd.DataFrame(df)\n",
    "df"
   ]
  },
  {
   "cell_type": "markdown",
   "id": "b14cfae9",
   "metadata": {},
   "source": [
    "CHECK FOR NULL VALUES"
   ]
  },
  {
   "cell_type": "code",
   "execution_count": 43,
   "id": "1af38a34",
   "metadata": {},
   "outputs": [
    {
     "data": {
      "text/html": [
       "<div>\n",
       "<style scoped>\n",
       "    .dataframe tbody tr th:only-of-type {\n",
       "        vertical-align: middle;\n",
       "    }\n",
       "\n",
       "    .dataframe tbody tr th {\n",
       "        vertical-align: top;\n",
       "    }\n",
       "\n",
       "    .dataframe thead th {\n",
       "        text-align: right;\n",
       "    }\n",
       "</style>\n",
       "<table border=\"1\" class=\"dataframe\">\n",
       "  <thead>\n",
       "    <tr style=\"text-align: right;\">\n",
       "      <th></th>\n",
       "      <th>Age</th>\n",
       "      <th>Gender</th>\n",
       "      <th>AcademicPerformance</th>\n",
       "      <th>TakingNoteInClass</th>\n",
       "      <th>DepressionStatus</th>\n",
       "      <th>FaceChallangesToCompleteAcademicTask</th>\n",
       "      <th>LikePresentation</th>\n",
       "      <th>SleepPerDayHours</th>\n",
       "      <th>NumberOfFriend</th>\n",
       "      <th>LikeNewThings</th>\n",
       "    </tr>\n",
       "  </thead>\n",
       "  <tbody>\n",
       "    <tr>\n",
       "      <th>0</th>\n",
       "      <td>False</td>\n",
       "      <td>False</td>\n",
       "      <td>False</td>\n",
       "      <td>False</td>\n",
       "      <td>False</td>\n",
       "      <td>False</td>\n",
       "      <td>False</td>\n",
       "      <td>False</td>\n",
       "      <td>True</td>\n",
       "      <td>False</td>\n",
       "    </tr>\n",
       "    <tr>\n",
       "      <th>1</th>\n",
       "      <td>False</td>\n",
       "      <td>False</td>\n",
       "      <td>False</td>\n",
       "      <td>False</td>\n",
       "      <td>False</td>\n",
       "      <td>False</td>\n",
       "      <td>False</td>\n",
       "      <td>False</td>\n",
       "      <td>False</td>\n",
       "      <td>False</td>\n",
       "    </tr>\n",
       "    <tr>\n",
       "      <th>2</th>\n",
       "      <td>False</td>\n",
       "      <td>False</td>\n",
       "      <td>False</td>\n",
       "      <td>False</td>\n",
       "      <td>False</td>\n",
       "      <td>False</td>\n",
       "      <td>False</td>\n",
       "      <td>False</td>\n",
       "      <td>False</td>\n",
       "      <td>False</td>\n",
       "    </tr>\n",
       "    <tr>\n",
       "      <th>3</th>\n",
       "      <td>False</td>\n",
       "      <td>False</td>\n",
       "      <td>False</td>\n",
       "      <td>False</td>\n",
       "      <td>False</td>\n",
       "      <td>False</td>\n",
       "      <td>False</td>\n",
       "      <td>False</td>\n",
       "      <td>False</td>\n",
       "      <td>False</td>\n",
       "    </tr>\n",
       "    <tr>\n",
       "      <th>4</th>\n",
       "      <td>False</td>\n",
       "      <td>False</td>\n",
       "      <td>False</td>\n",
       "      <td>False</td>\n",
       "      <td>False</td>\n",
       "      <td>False</td>\n",
       "      <td>False</td>\n",
       "      <td>False</td>\n",
       "      <td>False</td>\n",
       "      <td>False</td>\n",
       "    </tr>\n",
       "    <tr>\n",
       "      <th>...</th>\n",
       "      <td>...</td>\n",
       "      <td>...</td>\n",
       "      <td>...</td>\n",
       "      <td>...</td>\n",
       "      <td>...</td>\n",
       "      <td>...</td>\n",
       "      <td>...</td>\n",
       "      <td>...</td>\n",
       "      <td>...</td>\n",
       "      <td>...</td>\n",
       "    </tr>\n",
       "    <tr>\n",
       "      <th>94</th>\n",
       "      <td>False</td>\n",
       "      <td>False</td>\n",
       "      <td>False</td>\n",
       "      <td>False</td>\n",
       "      <td>False</td>\n",
       "      <td>False</td>\n",
       "      <td>False</td>\n",
       "      <td>False</td>\n",
       "      <td>False</td>\n",
       "      <td>False</td>\n",
       "    </tr>\n",
       "    <tr>\n",
       "      <th>95</th>\n",
       "      <td>False</td>\n",
       "      <td>False</td>\n",
       "      <td>False</td>\n",
       "      <td>False</td>\n",
       "      <td>False</td>\n",
       "      <td>False</td>\n",
       "      <td>False</td>\n",
       "      <td>False</td>\n",
       "      <td>False</td>\n",
       "      <td>False</td>\n",
       "    </tr>\n",
       "    <tr>\n",
       "      <th>96</th>\n",
       "      <td>False</td>\n",
       "      <td>False</td>\n",
       "      <td>False</td>\n",
       "      <td>False</td>\n",
       "      <td>False</td>\n",
       "      <td>False</td>\n",
       "      <td>False</td>\n",
       "      <td>False</td>\n",
       "      <td>False</td>\n",
       "      <td>False</td>\n",
       "    </tr>\n",
       "    <tr>\n",
       "      <th>97</th>\n",
       "      <td>False</td>\n",
       "      <td>False</td>\n",
       "      <td>False</td>\n",
       "      <td>False</td>\n",
       "      <td>False</td>\n",
       "      <td>False</td>\n",
       "      <td>False</td>\n",
       "      <td>False</td>\n",
       "      <td>False</td>\n",
       "      <td>False</td>\n",
       "    </tr>\n",
       "    <tr>\n",
       "      <th>98</th>\n",
       "      <td>False</td>\n",
       "      <td>False</td>\n",
       "      <td>False</td>\n",
       "      <td>False</td>\n",
       "      <td>False</td>\n",
       "      <td>False</td>\n",
       "      <td>False</td>\n",
       "      <td>False</td>\n",
       "      <td>False</td>\n",
       "      <td>False</td>\n",
       "    </tr>\n",
       "  </tbody>\n",
       "</table>\n",
       "<p>99 rows × 10 columns</p>\n",
       "</div>"
      ],
      "text/plain": [
       "     Age   Gender  AcademicPerformance  TakingNoteInClass  DepressionStatus  \\\n",
       "0   False   False                False              False             False   \n",
       "1   False   False                False              False             False   \n",
       "2   False   False                False              False             False   \n",
       "3   False   False                False              False             False   \n",
       "4   False   False                False              False             False   \n",
       "..    ...     ...                  ...                ...               ...   \n",
       "94  False   False                False              False             False   \n",
       "95  False   False                False              False             False   \n",
       "96  False   False                False              False             False   \n",
       "97  False   False                False              False             False   \n",
       "98  False   False                False              False             False   \n",
       "\n",
       "    FaceChallangesToCompleteAcademicTask  LikePresentation  SleepPerDayHours  \\\n",
       "0                                  False             False             False   \n",
       "1                                  False             False             False   \n",
       "2                                  False             False             False   \n",
       "3                                  False             False             False   \n",
       "4                                  False             False             False   \n",
       "..                                   ...               ...               ...   \n",
       "94                                 False             False             False   \n",
       "95                                 False             False             False   \n",
       "96                                 False             False             False   \n",
       "97                                 False             False             False   \n",
       "98                                 False             False             False   \n",
       "\n",
       "    NumberOfFriend  LikeNewThings  \n",
       "0             True          False  \n",
       "1            False          False  \n",
       "2            False          False  \n",
       "3            False          False  \n",
       "4            False          False  \n",
       "..             ...            ...  \n",
       "94           False          False  \n",
       "95           False          False  \n",
       "96           False          False  \n",
       "97           False          False  \n",
       "98           False          False  \n",
       "\n",
       "[99 rows x 10 columns]"
      ]
     },
     "execution_count": 43,
     "metadata": {},
     "output_type": "execute_result"
    }
   ],
   "source": [
    "df.isnull()"
   ]
  },
  {
   "cell_type": "markdown",
   "id": "976c528e",
   "metadata": {},
   "source": [
    "SHOW  NULL VALUES IN EACH ATTRIBUTE"
   ]
  },
  {
   "cell_type": "code",
   "execution_count": 44,
   "id": "fd2465a2",
   "metadata": {},
   "outputs": [
    {
     "data": {
      "text/plain": [
       "Age                                     0\n",
       "Gender                                  0\n",
       "AcademicPerformance                     0\n",
       "TakingNoteInClass                       0\n",
       "DepressionStatus                        0\n",
       "FaceChallangesToCompleteAcademicTask    0\n",
       "LikePresentation                        0\n",
       "SleepPerDayHours                        0\n",
       "NumberOfFriend                          4\n",
       "LikeNewThings                           0\n",
       "dtype: int64"
      ]
     },
     "execution_count": 44,
     "metadata": {},
     "output_type": "execute_result"
    }
   ],
   "source": [
    "df.isnull().sum()"
   ]
  },
  {
   "cell_type": "markdown",
   "id": "e80b76e9",
   "metadata": {},
   "source": [
    "FOR FILLING THE NULL VALUES , FIND MEAN"
   ]
  },
  {
   "cell_type": "code",
   "execution_count": 45,
   "id": "b31d968a",
   "metadata": {},
   "outputs": [
    {
     "data": {
      "text/plain": [
       "16.189473684210526"
      ]
     },
     "execution_count": 45,
     "metadata": {},
     "output_type": "execute_result"
    }
   ],
   "source": [
    "nooffmean=df['NumberOfFriend'].mean()\n",
    "nooffmean"
   ]
  },
  {
   "cell_type": "markdown",
   "id": "4da01ad3",
   "metadata": {},
   "source": [
    "FILL NULL VALUES WITH MEAN VALUE"
   ]
  },
  {
   "cell_type": "code",
   "execution_count": 46,
   "id": "5741b235",
   "metadata": {},
   "outputs": [],
   "source": [
    "df.fillna({'NumberOfFriend':nooffmean},inplace=True)"
   ]
  },
  {
   "cell_type": "markdown",
   "id": "42a90762",
   "metadata": {},
   "source": [
    "NOW CHECK FOR NULL VALUES"
   ]
  },
  {
   "cell_type": "code",
   "execution_count": 47,
   "id": "086a6ea9",
   "metadata": {},
   "outputs": [
    {
     "data": {
      "text/plain": [
       "Age                                     0\n",
       "Gender                                  0\n",
       "AcademicPerformance                     0\n",
       "TakingNoteInClass                       0\n",
       "DepressionStatus                        0\n",
       "FaceChallangesToCompleteAcademicTask    0\n",
       "LikePresentation                        0\n",
       "SleepPerDayHours                        0\n",
       "NumberOfFriend                          0\n",
       "LikeNewThings                           0\n",
       "dtype: int64"
      ]
     },
     "execution_count": 47,
     "metadata": {},
     "output_type": "execute_result"
    }
   ],
   "source": [
    "df.isnull().sum()"
   ]
  },
  {
   "cell_type": "markdown",
   "id": "781684a3",
   "metadata": {},
   "source": [
    "EXPORT THE PROCESSED DATAFRAME TO OTHER FORMATS - CSV,JSON,EXCEL,HDF"
   ]
  },
  {
   "cell_type": "code",
   "execution_count": 48,
   "id": "12f363a8",
   "metadata": {},
   "outputs": [],
   "source": [
    "df.to_csv('./ProcessedDataset/ExportCSV.csv',index=True)"
   ]
  },
  {
   "cell_type": "code",
   "execution_count": 49,
   "id": "d208ec62",
   "metadata": {},
   "outputs": [],
   "source": [
    "df.to_json('./ProcessedDataset/ExportJSON.json')"
   ]
  },
  {
   "cell_type": "code",
   "execution_count": 50,
   "id": "9e52d398",
   "metadata": {},
   "outputs": [],
   "source": [
    "df.to_excel('./ProcessedDataset/ExportXSL.xlsx')"
   ]
  },
  {
   "cell_type": "code",
   "execution_count": 51,
   "id": "503d2197",
   "metadata": {},
   "outputs": [],
   "source": [
    "df.to_hdf('./ProcessedDataset/ExportHDF.h5',key='df',mode='a')"
   ]
  }
 ],
 "metadata": {
  "kernelspec": {
   "display_name": "Python 3 (ipykernel)",
   "language": "python",
   "name": "python3"
  },
  "language_info": {
   "codemirror_mode": {
    "name": "ipython",
    "version": 3
   },
   "file_extension": ".py",
   "mimetype": "text/x-python",
   "name": "python",
   "nbconvert_exporter": "python",
   "pygments_lexer": "ipython3",
   "version": "3.12.1"
  }
 },
 "nbformat": 4,
 "nbformat_minor": 5
}
